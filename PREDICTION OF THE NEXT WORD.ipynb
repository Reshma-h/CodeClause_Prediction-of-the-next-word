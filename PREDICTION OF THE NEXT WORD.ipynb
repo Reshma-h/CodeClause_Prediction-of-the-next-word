{
 "cells": [
  {
   "cell_type": "code",
   "execution_count": 1,
   "id": "10219482",
   "metadata": {},
   "outputs": [],
   "source": [
    "import nltk"
   ]
  },
  {
   "cell_type": "code",
   "execution_count": 2,
   "id": "4f3f7345",
   "metadata": {},
   "outputs": [],
   "source": [
    "from nltk.tokenize import word_tokenize\n"
   ]
  },
  {
   "cell_type": "code",
   "execution_count": 3,
   "id": "f4d88438",
   "metadata": {},
   "outputs": [],
   "source": [
    "from nltk.corpus import gutenberg"
   ]
  },
  {
   "cell_type": "code",
   "execution_count": 4,
   "id": "d9b536a7",
   "metadata": {},
   "outputs": [],
   "source": [
    "from collections import defaultdict, Counter"
   ]
  },
  {
   "cell_type": "code",
   "execution_count": 5,
   "id": "809d5a21",
   "metadata": {},
   "outputs": [],
   "source": [
    "import random"
   ]
  },
  {
   "cell_type": "code",
   "execution_count": 6,
   "id": "25bce8af",
   "metadata": {
    "collapsed": true
   },
   "outputs": [
    {
     "name": "stderr",
     "output_type": "stream",
     "text": [
      "[nltk_data] Error loading gutenberg: <urlopen error [Errno 11001]\n",
      "[nltk_data]     getaddrinfo failed>\n"
     ]
    },
    {
     "data": {
      "text/plain": [
       "False"
      ]
     },
     "execution_count": 6,
     "metadata": {},
     "output_type": "execute_result"
    }
   ],
   "source": [
    "nltk.download('gutenberg')"
   ]
  },
  {
   "cell_type": "code",
   "execution_count": 7,
   "id": "9b941f65",
   "metadata": {},
   "outputs": [],
   "source": [
    "corpus = gutenberg.raw('bible-kjv.txt')"
   ]
  },
  {
   "cell_type": "code",
   "execution_count": 8,
   "id": "782cab49",
   "metadata": {},
   "outputs": [],
   "source": [
    "tokens = word_tokenize(corpus)"
   ]
  },
  {
   "cell_type": "code",
   "execution_count": 9,
   "id": "b319d40b",
   "metadata": {
    "collapsed": true
   },
   "outputs": [
    {
     "name": "stderr",
     "output_type": "stream",
     "text": [
      "[nltk_data] Error loading punkt: <urlopen error [Errno 11001]\n",
      "[nltk_data]     getaddrinfo failed>\n"
     ]
    },
    {
     "data": {
      "text/plain": [
       "False"
      ]
     },
     "execution_count": 9,
     "metadata": {},
     "output_type": "execute_result"
    }
   ],
   "source": [
    "nltk.download('punkt')"
   ]
  },
  {
   "cell_type": "code",
   "execution_count": 10,
   "id": "9aadf13d",
   "metadata": {},
   "outputs": [],
   "source": [
    "freq_dict = defaultdict(Counter)"
   ]
  },
  {
   "cell_type": "code",
   "execution_count": 11,
   "id": "754b296a",
   "metadata": {},
   "outputs": [],
   "source": [
    "for i in range(len(tokens) - 1):\n",
    "    word, next_word = tokens[i], tokens[i + 1]\n",
    "    freq_dict[word][next_word] += 1\n"
   ]
  },
  {
   "cell_type": "code",
   "execution_count": 12,
   "id": "a675e5da",
   "metadata": {},
   "outputs": [],
   "source": [
    "prob_dict = defaultdict(dict)\n",
    "for word, next_words in freq_dict.items():\n",
    "    total = sum(next_words.values())\n",
    "    for next_word, count in next_words.items():\n",
    "        prob_dict[word][next_word] = count / total\n"
   ]
  },
  {
   "cell_type": "code",
   "execution_count": 13,
   "id": "8541d3ed",
   "metadata": {},
   "outputs": [],
   "source": [
    "def generate_next_word(word):\n",
    "    next_words = prob_dict[word]\n",
    "    if len(next_words) == 0:\n",
    "        return None\n",
    "    return random.choices(list(next_words.keys()), list(next_words.values()))[0]\n"
   ]
  },
  {
   "cell_type": "code",
   "execution_count": 14,
   "id": "cdd07689",
   "metadata": {},
   "outputs": [],
   "source": [
    "def generate_sentence(start_word, length=100):\n",
    "    sentence = [start_word]\n",
    "    for i in range(length):\n",
    "        next_word = generate_next_word(sentence[-1])\n",
    "        if next_word is None:\n",
    "            break\n",
    "        sentence.append(next_word)\n",
    "    return ' '.join(sentence)"
   ]
  },
  {
   "cell_type": "code",
   "execution_count": 15,
   "id": "6e2aa544",
   "metadata": {},
   "outputs": [
    {
     "name": "stdout",
     "output_type": "stream",
     "text": [
      "In whom they called Abimelech . 33:1 Manasseh , each in the temple , and not leave none of the son of the city Babylon . 2:1 And Manasseh , sent messengers of the writing thereof from Baalgad in the children of Naboth the Lord GOD ; because they answered , and the glory that thou he was a spirit of Israel , 21:14 But Ehud the world worketh righteousness which thou wilt have made himself . 107:39 Again he said unto you , Samlah died . 12:5 And one bullock for the meat ; 22:16 He said unto the centurion to be carried the expectation of the king over us . 10:36 Vaniah , and be a tabernacle of Aser were that Saul commanded him , and in caldrons also ; ( for this evil be unclean until he had they brought them , and against a cave of the first man , Pontius Pilate , the blessings in all things , and as ye had said , 43:9 I say unto him away the four corners of sweet incense upon usury , let us how he and Manasseh have heard the kings of the LORD , and help ; thou call the oil . 33:34 And when she said , but he answered and all his right hand of Egypt . 9:27 And the rock ; and equity . 14:33 Wisdom hath a venture , 16:2 Son , saying , so . 21:23 And the son , and to God , and , and into lime : 12:24 Verily I called unto him by the people , that sought to stand ? 3:2 Arise , if there is come and suffer them to Adonijah ? 14:4 Who are tempted the remnant of the blood . 8:18 And their treasures , O ye princes of the way . 30:27 And Lamech took him in the sea , a parable unto the way as Sara herself seven pipes empty , within me : at a fame was very great vengeance : rid them ? and the name was very hour Jesus Christ our heart deviseth liberal things . 37:18 And when they attain unto the mount Ebal , I not the people forth the sides of my father , When I opened until thou , and Asia be in it be the first day that it came against the day ; so in from the dearth began to Hagar . 3:15 The LORD , We offend not to keep all the children of beasts of the temple . And blessed shalt have borne the flower : for a great deep places of your sons of Eleazar his kingdom was an ephah and their sons of Mattaniah , which thou shouldest be yet seven days of the treacherous men of Manasseh had conceived again the ark of Egypt , that is the kings are as when Eli , which is covered on the priests , 2:10 When the building , Of sin offering and offered himself to thee , and wonders be melted . 2:13 And they are partakers with another gospel . 28:16 Cursed be cast them in all that went down the LORD , first , the high places , and let my soul . 11:6 But Job sent to bear the hangings of Bashemath the south side . 27:6 Then shalt burn unto me to them ? and so hate me of Babylon , a graven images , ye be given to lay there any of the Shilonites ; and the ears of the needy speaketh the Hebrew tongue , is Hebron : and that blotteth out of Barzillai , and the sight , if he said unto them ; ( in the man to Egypt . 20:37 And in the sacrifice of crying that our great abundance , and the people refuseth to Hezekiah , and him that the woman that take up into thy works of the wall unto this thing is the old through Jesus saith the goldsmiths . 24:22 And the word of the way of Hemath , and it , I will do it was my help me . 18:2 Then one his strength , For their father , to life , and brought him : for there stood in a terror . 8:3 And he made straight , that stood trembling . 23:19 Behold , and Ai . 21:20 There are grapes . And the beloved of all that thy throat is not read in the man that I will cut off in the horns . 17:1 And Peter passed over Judah said , my brother of Zion hath driven away from before him , full of the king of the end : 1:14 I have not have no more rise against Jerusalem , lest my lord of David had cast him , and they shall flee to the high , and a man dwelt in the earth , It came a witness , and thy face , but a clean linen , and Jozabad , the LORD shall be as were taken thereof . 3:5 Can any other disciple is this bleating of Israel , and died . 15:23 And herein is he said , to every good manners of heavens , went out the Chaldeans , and he was Hannah went up , why wentest in the field . 16:16 And that said , and be baken pieces , if the Hivite ; and having the lamps are these are received commandments , psaltery , and the earth , the children of all these nations ? 22:29 Then saith unto the arms , and Hazeroth , and in the hand , Come , There is a serpent by a sinner or a noise . 27:16 Syria , and defile themselves shall be blessed is not alter this house of thy houses , and taketh under thy wine , without inhabitant of Ephraim my commandments is also shall go mourning , and\n"
     ]
    }
   ],
   "source": [
    "print(generate_sentence('In', length=1000))"
   ]
  },
  {
   "cell_type": "code",
   "execution_count": 16,
   "id": "ef90903b",
   "metadata": {},
   "outputs": [],
   "source": [
    "#In this code, we first load the data from the Gutenberg corpus and tokenize it using the word_tokenize() function \n",
    "\n",
    "#from the NLTK library. We then create a dictionary to store the frequency of each word using the defaultdict and Counter \n",
    "\n",
    "#classes from the Python collections module.\n",
    "\n",
    "#Next, we generate the probability of the next word given the current word using the frequency dictionary. \n",
    "\n",
    "#We define a function generate_next_word() to generate the next word given the current word based on the probability dictionary.\n",
    "\n",
    "#Finally, we define a function generate_sentence() to generate a sentence by randomly selecting the next word based on the probability of the next word given the current word. We generate a sentence by calling the generate_sentence() function with a starting word and the length of the sentence."
   ]
  }
 ],
 "metadata": {
  "kernelspec": {
   "display_name": "Python 3 (ipykernel)",
   "language": "python",
   "name": "python3"
  },
  "language_info": {
   "codemirror_mode": {
    "name": "ipython",
    "version": 3
   },
   "file_extension": ".py",
   "mimetype": "text/x-python",
   "name": "python",
   "nbconvert_exporter": "python",
   "pygments_lexer": "ipython3",
   "version": "3.11.1"
  }
 },
 "nbformat": 4,
 "nbformat_minor": 5
}
